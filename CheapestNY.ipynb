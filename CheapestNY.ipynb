{
 "cells": [
  {
   "cell_type": "markdown",
   "metadata": {},
   "source": [
    "# What is the Most affordable and Safest area for families in NY"
   ]
  },
  {
   "cell_type": "markdown",
   "metadata": {},
   "source": [
    "This report is aimed at helping families dictate what neighborhoods in NY might be the best for raising a family while working in NY.  This could also be useful for companies looking to hire new employees as a way to assure them there are neighborhoods in the area which might make the move desireable and still ensure them a prosperous future."
   ]
  },
  {
   "cell_type": "markdown",
   "metadata": {},
   "source": [
    "This report will utilize 2 datasets as well as a relationship between locations.  The first taking into account neighborhoods with lower crime rates.  This dataset is entitle NYC_crime.csv (https://data.cityofnewyork.us/Public-Safety/NYC-crime/qb7u-rbmr) and will be loaded and explored first.  The second will look at the average cost of homes in the area, which is useful when comparing future salary to living expenses.  These are very basic metrics, but should allow individuals to gain a basic understanding of what a job in NY may entail."
   ]
  },
  {
   "cell_type": "markdown",
   "metadata": {},
   "source": [
    "### Import Libraries"
   ]
  },
  {
   "cell_type": "code",
   "execution_count": 1,
   "metadata": {},
   "outputs": [],
   "source": [
    "import pandas as pd\n",
    "import numpy as np\n",
    "import matplotlib.pyplot as plt\n",
    "import sys as sys"
   ]
  },
  {
   "cell_type": "markdown",
   "metadata": {},
   "source": [
    "### Load the Crime dataset"
   ]
  },
  {
   "cell_type": "code",
   "execution_count": 2,
   "metadata": {},
   "outputs": [
    {
     "data": {
      "text/html": [
       "<div>\n",
       "<style scoped>\n",
       "    .dataframe tbody tr th:only-of-type {\n",
       "        vertical-align: middle;\n",
       "    }\n",
       "\n",
       "    .dataframe tbody tr th {\n",
       "        vertical-align: top;\n",
       "    }\n",
       "\n",
       "    .dataframe thead th {\n",
       "        text-align: right;\n",
       "    }\n",
       "</style>\n",
       "<table border=\"1\" class=\"dataframe\">\n",
       "  <thead>\n",
       "    <tr style=\"text-align: right;\">\n",
       "      <th></th>\n",
       "      <th>CMPLNT_FR_DT</th>\n",
       "      <th>CMPLNT_FR_TM</th>\n",
       "      <th>CMPLNT_TO_DT</th>\n",
       "      <th>CMPLNT_TO_TM</th>\n",
       "      <th>RPT_DT</th>\n",
       "      <th>KY_CD</th>\n",
       "      <th>OFNS_DESC</th>\n",
       "      <th>PD_CD</th>\n",
       "      <th>PD_DESC</th>\n",
       "      <th>CRM_ATPT_CPTD_CD</th>\n",
       "      <th>...</th>\n",
       "      <th>ADDR_PCT_CD</th>\n",
       "      <th>LOC_OF_OCCUR_DESC</th>\n",
       "      <th>PREM_TYP_DESC</th>\n",
       "      <th>PARKS_NM</th>\n",
       "      <th>HADEVELOPT</th>\n",
       "      <th>X_COORD_CD</th>\n",
       "      <th>Y_COORD_CD</th>\n",
       "      <th>Latitude</th>\n",
       "      <th>Longitude</th>\n",
       "      <th>Lat_Lon</th>\n",
       "    </tr>\n",
       "    <tr>\n",
       "      <th>CMPLNT_NUM</th>\n",
       "      <th></th>\n",
       "      <th></th>\n",
       "      <th></th>\n",
       "      <th></th>\n",
       "      <th></th>\n",
       "      <th></th>\n",
       "      <th></th>\n",
       "      <th></th>\n",
       "      <th></th>\n",
       "      <th></th>\n",
       "      <th></th>\n",
       "      <th></th>\n",
       "      <th></th>\n",
       "      <th></th>\n",
       "      <th></th>\n",
       "      <th></th>\n",
       "      <th></th>\n",
       "      <th></th>\n",
       "      <th></th>\n",
       "      <th></th>\n",
       "      <th></th>\n",
       "    </tr>\n",
       "  </thead>\n",
       "  <tbody>\n",
       "    <tr>\n",
       "      <th>872986408</th>\n",
       "      <td>01/01/2016</td>\n",
       "      <td>00:01:00</td>\n",
       "      <td>12/31/2017</td>\n",
       "      <td>23:59:00</td>\n",
       "      <td>03/05/2018</td>\n",
       "      <td>233</td>\n",
       "      <td>SEX CRIMES</td>\n",
       "      <td>170</td>\n",
       "      <td>SEXUAL MISCONDUCT,INTERCOURSE</td>\n",
       "      <td>ATTEMPTED</td>\n",
       "      <td>...</td>\n",
       "      <td>33</td>\n",
       "      <td>INSIDE</td>\n",
       "      <td>RESIDENCE - PUBLIC HOUSING</td>\n",
       "      <td>NaN</td>\n",
       "      <td>NaN</td>\n",
       "      <td>1001936</td>\n",
       "      <td>245282</td>\n",
       "      <td>40.839908</td>\n",
       "      <td>-73.936084</td>\n",
       "      <td>(40.839908201, -73.936083587)</td>\n",
       "    </tr>\n",
       "    <tr>\n",
       "      <th>911003056</th>\n",
       "      <td>01/01/2016</td>\n",
       "      <td>12:00:00</td>\n",
       "      <td>02/16/2018</td>\n",
       "      <td>12:00:00</td>\n",
       "      <td>02/28/2018</td>\n",
       "      <td>109</td>\n",
       "      <td>GRAND LARCENY</td>\n",
       "      <td>407</td>\n",
       "      <td>LARCENY,GRAND BY DISHONEST EMP</td>\n",
       "      <td>COMPLETED</td>\n",
       "      <td>...</td>\n",
       "      <td>20</td>\n",
       "      <td>INSIDE</td>\n",
       "      <td>OTHER</td>\n",
       "      <td>NaN</td>\n",
       "      <td>NaN</td>\n",
       "      <td>989731</td>\n",
       "      <td>222727</td>\n",
       "      <td>40.778017</td>\n",
       "      <td>-73.980211</td>\n",
       "      <td>(40.778016975, -73.980211324)</td>\n",
       "    </tr>\n",
       "    <tr>\n",
       "      <th>178447094</th>\n",
       "      <td>01/01/2016</td>\n",
       "      <td>08:00:00</td>\n",
       "      <td>03/18/2017</td>\n",
       "      <td>17:00:00</td>\n",
       "      <td>02/21/2018</td>\n",
       "      <td>109</td>\n",
       "      <td>GRAND LARCENY</td>\n",
       "      <td>420</td>\n",
       "      <td>LARCENY,GRAND BY OPEN/COMPROMISE CELL PHONE ACCT</td>\n",
       "      <td>COMPLETED</td>\n",
       "      <td>...</td>\n",
       "      <td>34</td>\n",
       "      <td>INSIDE</td>\n",
       "      <td>RESIDENCE - APT. HOUSE</td>\n",
       "      <td>NaN</td>\n",
       "      <td>NaN</td>\n",
       "      <td>1001606</td>\n",
       "      <td>251324</td>\n",
       "      <td>40.856492</td>\n",
       "      <td>-73.937261</td>\n",
       "      <td>(40.856492363, -73.93726058)</td>\n",
       "    </tr>\n",
       "    <tr>\n",
       "      <th>713483285</th>\n",
       "      <td>01/01/2016</td>\n",
       "      <td>00:00:00</td>\n",
       "      <td>02/15/2018</td>\n",
       "      <td>19:30:00</td>\n",
       "      <td>02/16/2018</td>\n",
       "      <td>112</td>\n",
       "      <td>THEFT-FRAUD</td>\n",
       "      <td>739</td>\n",
       "      <td>FRAUD,UNCLASSIFIED-FELONY</td>\n",
       "      <td>COMPLETED</td>\n",
       "      <td>...</td>\n",
       "      <td>32</td>\n",
       "      <td>INSIDE</td>\n",
       "      <td>RESIDENCE - APT. HOUSE</td>\n",
       "      <td>NaN</td>\n",
       "      <td>NaN</td>\n",
       "      <td>1001374</td>\n",
       "      <td>238163</td>\n",
       "      <td>40.820370</td>\n",
       "      <td>-73.938133</td>\n",
       "      <td>(40.820369696, -73.938132846)</td>\n",
       "    </tr>\n",
       "    <tr>\n",
       "      <th>908438691</th>\n",
       "      <td>01/01/2016</td>\n",
       "      <td>10:00:00</td>\n",
       "      <td>02/11/2018</td>\n",
       "      <td>16:00:00</td>\n",
       "      <td>02/11/2018</td>\n",
       "      <td>578</td>\n",
       "      <td>HARRASSMENT 2</td>\n",
       "      <td>638</td>\n",
       "      <td>HARASSMENT,SUBD 3,4,5</td>\n",
       "      <td>COMPLETED</td>\n",
       "      <td>...</td>\n",
       "      <td>24</td>\n",
       "      <td>INSIDE</td>\n",
       "      <td>RESIDENCE - APT. HOUSE</td>\n",
       "      <td>NaN</td>\n",
       "      <td>NaN</td>\n",
       "      <td>993373</td>\n",
       "      <td>229301</td>\n",
       "      <td>40.796058</td>\n",
       "      <td>-73.967052</td>\n",
       "      <td>(40.79605784, -73.967052307)</td>\n",
       "    </tr>\n",
       "  </tbody>\n",
       "</table>\n",
       "<p>5 rows × 23 columns</p>\n",
       "</div>"
      ],
      "text/plain": [
       "           CMPLNT_FR_DT CMPLNT_FR_TM CMPLNT_TO_DT CMPLNT_TO_TM      RPT_DT  \\\n",
       "CMPLNT_NUM                                                                   \n",
       "872986408    01/01/2016     00:01:00   12/31/2017     23:59:00  03/05/2018   \n",
       "911003056    01/01/2016     12:00:00   02/16/2018     12:00:00  02/28/2018   \n",
       "178447094    01/01/2016     08:00:00   03/18/2017     17:00:00  02/21/2018   \n",
       "713483285    01/01/2016     00:00:00   02/15/2018     19:30:00  02/16/2018   \n",
       "908438691    01/01/2016     10:00:00   02/11/2018     16:00:00  02/11/2018   \n",
       "\n",
       "            KY_CD      OFNS_DESC  PD_CD  \\\n",
       "CMPLNT_NUM                                \n",
       "872986408     233     SEX CRIMES    170   \n",
       "911003056     109  GRAND LARCENY    407   \n",
       "178447094     109  GRAND LARCENY    420   \n",
       "713483285     112    THEFT-FRAUD    739   \n",
       "908438691     578  HARRASSMENT 2    638   \n",
       "\n",
       "                                                     PD_DESC CRM_ATPT_CPTD_CD  \\\n",
       "CMPLNT_NUM                                                                      \n",
       "872986408                      SEXUAL MISCONDUCT,INTERCOURSE        ATTEMPTED   \n",
       "911003056                     LARCENY,GRAND BY DISHONEST EMP        COMPLETED   \n",
       "178447094   LARCENY,GRAND BY OPEN/COMPROMISE CELL PHONE ACCT        COMPLETED   \n",
       "713483285                          FRAUD,UNCLASSIFIED-FELONY        COMPLETED   \n",
       "908438691                              HARASSMENT,SUBD 3,4,5        COMPLETED   \n",
       "\n",
       "                        ...               ADDR_PCT_CD LOC_OF_OCCUR_DESC  \\\n",
       "CMPLNT_NUM              ...                                               \n",
       "872986408               ...                        33            INSIDE   \n",
       "911003056               ...                        20            INSIDE   \n",
       "178447094               ...                        34            INSIDE   \n",
       "713483285               ...                        32            INSIDE   \n",
       "908438691               ...                        24            INSIDE   \n",
       "\n",
       "                         PREM_TYP_DESC  PARKS_NM HADEVELOPT X_COORD_CD  \\\n",
       "CMPLNT_NUM                                                               \n",
       "872986408   RESIDENCE - PUBLIC HOUSING       NaN        NaN    1001936   \n",
       "911003056                        OTHER       NaN        NaN     989731   \n",
       "178447094       RESIDENCE - APT. HOUSE       NaN        NaN    1001606   \n",
       "713483285       RESIDENCE - APT. HOUSE       NaN        NaN    1001374   \n",
       "908438691       RESIDENCE - APT. HOUSE       NaN        NaN     993373   \n",
       "\n",
       "            Y_COORD_CD   Latitude  Longitude                        Lat_Lon  \n",
       "CMPLNT_NUM                                                                   \n",
       "872986408       245282  40.839908 -73.936084  (40.839908201, -73.936083587)  \n",
       "911003056       222727  40.778017 -73.980211  (40.778016975, -73.980211324)  \n",
       "178447094       251324  40.856492 -73.937261   (40.856492363, -73.93726058)  \n",
       "713483285       238163  40.820370 -73.938133  (40.820369696, -73.938132846)  \n",
       "908438691       229301  40.796058 -73.967052   (40.79605784, -73.967052307)  \n",
       "\n",
       "[5 rows x 23 columns]"
      ]
     },
     "execution_count": 2,
     "metadata": {},
     "output_type": "execute_result"
    }
   ],
   "source": [
    "crm_csv = 'NYC_crime.csv'\n",
    "crm_df = pd.read_csv(crm_csv, index_col = 0)\n",
    "crm_df.head()"
   ]
  },
  {
   "cell_type": "markdown",
   "metadata": {},
   "source": [
    "##### Rename columns and remove unnecessary columns"
   ]
  },
  {
   "cell_type": "code",
   "execution_count": 3,
   "metadata": {},
   "outputs": [
    {
     "data": {
      "text/plain": [
       "Index(['CMPLNT_FR_DT', 'CMPLNT_FR_TM', 'CMPLNT_TO_DT', 'CMPLNT_TO_TM',\n",
       "       'RPT_DT', 'KY_CD', 'OFNS_DESC', 'PD_CD', 'PD_DESC', 'CRM_ATPT_CPTD_CD',\n",
       "       'LAW_CAT_CD', 'JURIS_DESC', 'BORO_NM', 'ADDR_PCT_CD',\n",
       "       'LOC_OF_OCCUR_DESC', 'PREM_TYP_DESC', 'PARKS_NM', 'HADEVELOPT',\n",
       "       'X_COORD_CD', 'Y_COORD_CD', 'Latitude', 'Longitude', 'Lat_Lon'],\n",
       "      dtype='object')"
      ]
     },
     "execution_count": 3,
     "metadata": {},
     "output_type": "execute_result"
    }
   ],
   "source": [
    "colNames = crm_df.columns\n",
    "colNames"
   ]
  },
  {
   "cell_type": "code",
   "execution_count": 4,
   "metadata": {},
   "outputs": [
    {
     "name": "stdout",
     "output_type": "stream",
     "text": [
      "[6, 20, 21, 22]\n"
     ]
    }
   ],
   "source": [
    "#wanted col names are OFNS_DESC, and Latitude, Longitude, Lat_Lon\n",
    "#These numbers are\n",
    "offense = crm_df.columns.get_loc('OFNS_DESC')\n",
    "lat = crm_df.columns.get_loc('Latitude')\n",
    "long = crm_df.columns.get_loc('Longitude')\n",
    "latLong = crm_df.columns.get_loc('Lat_Lon')\n",
    "print([offense, lat, long, latLong])"
   ]
  },
  {
   "cell_type": "code",
   "execution_count": 5,
   "metadata": {},
   "outputs": [
    {
     "data": {
      "text/html": [
       "<div>\n",
       "<style scoped>\n",
       "    .dataframe tbody tr th:only-of-type {\n",
       "        vertical-align: middle;\n",
       "    }\n",
       "\n",
       "    .dataframe tbody tr th {\n",
       "        vertical-align: top;\n",
       "    }\n",
       "\n",
       "    .dataframe thead th {\n",
       "        text-align: right;\n",
       "    }\n",
       "</style>\n",
       "<table border=\"1\" class=\"dataframe\">\n",
       "  <thead>\n",
       "    <tr style=\"text-align: right;\">\n",
       "      <th></th>\n",
       "      <th>OFNS_DESC</th>\n",
       "      <th>Latitude</th>\n",
       "      <th>Longitude</th>\n",
       "      <th>Lat_Lon</th>\n",
       "    </tr>\n",
       "    <tr>\n",
       "      <th>CMPLNT_NUM</th>\n",
       "      <th></th>\n",
       "      <th></th>\n",
       "      <th></th>\n",
       "      <th></th>\n",
       "    </tr>\n",
       "  </thead>\n",
       "  <tbody>\n",
       "    <tr>\n",
       "      <th>872986408</th>\n",
       "      <td>SEX CRIMES</td>\n",
       "      <td>40.839908</td>\n",
       "      <td>-73.936084</td>\n",
       "      <td>(40.839908201, -73.936083587)</td>\n",
       "    </tr>\n",
       "    <tr>\n",
       "      <th>911003056</th>\n",
       "      <td>GRAND LARCENY</td>\n",
       "      <td>40.778017</td>\n",
       "      <td>-73.980211</td>\n",
       "      <td>(40.778016975, -73.980211324)</td>\n",
       "    </tr>\n",
       "    <tr>\n",
       "      <th>178447094</th>\n",
       "      <td>GRAND LARCENY</td>\n",
       "      <td>40.856492</td>\n",
       "      <td>-73.937261</td>\n",
       "      <td>(40.856492363, -73.93726058)</td>\n",
       "    </tr>\n",
       "    <tr>\n",
       "      <th>713483285</th>\n",
       "      <td>THEFT-FRAUD</td>\n",
       "      <td>40.820370</td>\n",
       "      <td>-73.938133</td>\n",
       "      <td>(40.820369696, -73.938132846)</td>\n",
       "    </tr>\n",
       "    <tr>\n",
       "      <th>908438691</th>\n",
       "      <td>HARRASSMENT 2</td>\n",
       "      <td>40.796058</td>\n",
       "      <td>-73.967052</td>\n",
       "      <td>(40.79605784, -73.967052307)</td>\n",
       "    </tr>\n",
       "  </tbody>\n",
       "</table>\n",
       "</div>"
      ],
      "text/plain": [
       "                OFNS_DESC   Latitude  Longitude                        Lat_Lon\n",
       "CMPLNT_NUM                                                                    \n",
       "872986408      SEX CRIMES  40.839908 -73.936084  (40.839908201, -73.936083587)\n",
       "911003056   GRAND LARCENY  40.778017 -73.980211  (40.778016975, -73.980211324)\n",
       "178447094   GRAND LARCENY  40.856492 -73.937261   (40.856492363, -73.93726058)\n",
       "713483285     THEFT-FRAUD  40.820370 -73.938133  (40.820369696, -73.938132846)\n",
       "908438691   HARRASSMENT 2  40.796058 -73.967052   (40.79605784, -73.967052307)"
      ]
     },
     "execution_count": 5,
     "metadata": {},
     "output_type": "execute_result"
    }
   ],
   "source": [
    "rge = list(range(0,5))\n",
    "rge2 = list(range(7,19))\n",
    "rge = rge + rge2\n",
    "crm_df = crm_df.drop(columns=['CMPLNT_FR_DT', 'CMPLNT_FR_TM', 'CMPLNT_TO_DT', 'CMPLNT_TO_TM',\n",
    "       'RPT_DT', 'KY_CD', 'PD_CD', 'PD_DESC', 'CRM_ATPT_CPTD_CD',\n",
    "       'LAW_CAT_CD', 'JURIS_DESC', 'BORO_NM', 'ADDR_PCT_CD',\n",
    "       'LOC_OF_OCCUR_DESC', 'PREM_TYP_DESC', 'PARKS_NM', 'HADEVELOPT',\n",
    "       'X_COORD_CD', 'Y_COORD_CD'])\n",
    "crm_df.head()"
   ]
  },
  {
   "cell_type": "markdown",
   "metadata": {},
   "source": [
    "### Load Housing Cost Dataset"
   ]
  },
  {
   "cell_type": "code",
   "execution_count": 6,
   "metadata": {},
   "outputs": [
    {
     "data": {
      "text/html": [
       "<div>\n",
       "<style scoped>\n",
       "    .dataframe tbody tr th:only-of-type {\n",
       "        vertical-align: middle;\n",
       "    }\n",
       "\n",
       "    .dataframe tbody tr th {\n",
       "        vertical-align: top;\n",
       "    }\n",
       "\n",
       "    .dataframe thead th {\n",
       "        text-align: right;\n",
       "    }\n",
       "</style>\n",
       "<table border=\"1\" class=\"dataframe\">\n",
       "  <thead>\n",
       "    <tr style=\"text-align: right;\">\n",
       "      <th></th>\n",
       "      <th>BOROUGH</th>\n",
       "      <th>BUILDING CLASS CATEGORY</th>\n",
       "      <th>NUMBER OF SALES</th>\n",
       "      <th>MINIMUM SALE PRICE</th>\n",
       "      <th>AVERAGE SALE PRICE</th>\n",
       "      <th>MEDIAN SALE PRICE</th>\n",
       "      <th>MAXIMUM SALE PRICE</th>\n",
       "    </tr>\n",
       "  </thead>\n",
       "  <tbody>\n",
       "    <tr>\n",
       "      <th>0</th>\n",
       "      <td>1</td>\n",
       "      <td>01 ONE FAMILY HOMES</td>\n",
       "      <td>55</td>\n",
       "      <td>408771.0</td>\n",
       "      <td>6812888.0</td>\n",
       "      <td>5075000.0</td>\n",
       "      <td>25000000.0</td>\n",
       "    </tr>\n",
       "    <tr>\n",
       "      <th>1</th>\n",
       "      <td>1</td>\n",
       "      <td>02 TWO FAMILY HOMES</td>\n",
       "      <td>47</td>\n",
       "      <td>320000.0</td>\n",
       "      <td>3736718.0</td>\n",
       "      <td>3085000.0</td>\n",
       "      <td>15400000.0</td>\n",
       "    </tr>\n",
       "    <tr>\n",
       "      <th>2</th>\n",
       "      <td>1</td>\n",
       "      <td>03 THREE FAMILY HOMES</td>\n",
       "      <td>33</td>\n",
       "      <td>449249.0</td>\n",
       "      <td>2857128.0</td>\n",
       "      <td>1100000.0</td>\n",
       "      <td>19500000.0</td>\n",
       "    </tr>\n",
       "    <tr>\n",
       "      <th>3</th>\n",
       "      <td>2</td>\n",
       "      <td>01 ONE FAMILY HOMES</td>\n",
       "      <td>516</td>\n",
       "      <td>150000.0</td>\n",
       "      <td>405594.0</td>\n",
       "      <td>349995.0</td>\n",
       "      <td>5000000.0</td>\n",
       "    </tr>\n",
       "    <tr>\n",
       "      <th>4</th>\n",
       "      <td>2</td>\n",
       "      <td>02 TWO FAMILY HOMES</td>\n",
       "      <td>771</td>\n",
       "      <td>150000.0</td>\n",
       "      <td>421473.0</td>\n",
       "      <td>428786.0</td>\n",
       "      <td>1000000.0</td>\n",
       "    </tr>\n",
       "  </tbody>\n",
       "</table>\n",
       "</div>"
      ],
      "text/plain": [
       "  BOROUGH BUILDING CLASS CATEGORY   NUMBER OF SALES    MINIMUM SALE PRICE   \\\n",
       "0       1   01 ONE FAMILY HOMES                   55              408771.0   \n",
       "1       1   02 TWO FAMILY HOMES                   47              320000.0   \n",
       "2       1   03 THREE FAMILY HOMES                 33              449249.0   \n",
       "3       2   01 ONE FAMILY HOMES                  516              150000.0   \n",
       "4       2   02 TWO FAMILY HOMES                  771              150000.0   \n",
       "\n",
       "    AVERAGE SALE PRICE    MEDIAN SALE PRICE    MAXIMUM SALE PRICE   \n",
       "0             6812888.0            5075000.0            25000000.0  \n",
       "1             3736718.0            3085000.0            15400000.0  \n",
       "2             2857128.0            1100000.0            19500000.0  \n",
       "3              405594.0             349995.0             5000000.0  \n",
       "4              421473.0             428786.0             1000000.0  "
      ]
     },
     "execution_count": 6,
     "metadata": {},
     "output_type": "execute_result"
    }
   ],
   "source": [
    "house_csv = 'DOF__Summary_of_Neighborhood_Sales_Citywide_for_Class_1-__2-_and_3-Family_homes_-_2009.csv'\n",
    "house_df = pd.read_csv(house_csv)\n",
    "house_df.head()"
   ]
  },
  {
   "cell_type": "code",
   "execution_count": 7,
   "metadata": {},
   "outputs": [
    {
     "data": {
      "text/plain": [
       "Index(['BOROUGH', 'BUILDING CLASS CATEGORY', ' NUMBER OF SALES ',\n",
       "       ' MINIMUM SALE PRICE ', ' AVERAGE SALE PRICE ', ' MEDIAN SALE PRICE ',\n",
       "       ' MAXIMUM SALE PRICE '],\n",
       "      dtype='object')"
      ]
     },
     "execution_count": 7,
     "metadata": {},
     "output_type": "execute_result"
    }
   ],
   "source": [
    "house_df.columns"
   ]
  },
  {
   "cell_type": "code",
   "execution_count": 8,
   "metadata": {},
   "outputs": [
    {
     "data": {
      "text/html": [
       "<div>\n",
       "<style scoped>\n",
       "    .dataframe tbody tr th:only-of-type {\n",
       "        vertical-align: middle;\n",
       "    }\n",
       "\n",
       "    .dataframe tbody tr th {\n",
       "        vertical-align: top;\n",
       "    }\n",
       "\n",
       "    .dataframe thead th {\n",
       "        text-align: right;\n",
       "    }\n",
       "</style>\n",
       "<table border=\"1\" class=\"dataframe\">\n",
       "  <thead>\n",
       "    <tr style=\"text-align: right;\">\n",
       "      <th></th>\n",
       "      <th>BOROUGH</th>\n",
       "      <th>AVERAGE SALE PRICE</th>\n",
       "    </tr>\n",
       "  </thead>\n",
       "  <tbody>\n",
       "    <tr>\n",
       "      <th>0</th>\n",
       "      <td>1</td>\n",
       "      <td>6812888.0</td>\n",
       "    </tr>\n",
       "    <tr>\n",
       "      <th>1</th>\n",
       "      <td>1</td>\n",
       "      <td>3736718.0</td>\n",
       "    </tr>\n",
       "    <tr>\n",
       "      <th>2</th>\n",
       "      <td>1</td>\n",
       "      <td>2857128.0</td>\n",
       "    </tr>\n",
       "    <tr>\n",
       "      <th>3</th>\n",
       "      <td>2</td>\n",
       "      <td>405594.0</td>\n",
       "    </tr>\n",
       "    <tr>\n",
       "      <th>4</th>\n",
       "      <td>2</td>\n",
       "      <td>421473.0</td>\n",
       "    </tr>\n",
       "  </tbody>\n",
       "</table>\n",
       "</div>"
      ],
      "text/plain": [
       "  BOROUGH   AVERAGE SALE PRICE \n",
       "0       1             6812888.0\n",
       "1       1             3736718.0\n",
       "2       1             2857128.0\n",
       "3       2              405594.0\n",
       "4       2              421473.0"
      ]
     },
     "execution_count": 8,
     "metadata": {},
     "output_type": "execute_result"
    }
   ],
   "source": [
    "house_df = house_df.drop(['BUILDING CLASS CATEGORY',' NUMBER OF SALES ',' MINIMUM SALE PRICE ', ' MEDIAN SALE PRICE ',' MAXIMUM SALE PRICE '], axis = 1)\n",
    "house_df.head()"
   ]
  },
  {
   "cell_type": "code",
   "execution_count": 9,
   "metadata": {},
   "outputs": [],
   "source": [
    "house_meanDF = house_df.groupby('BOROUGH').mean()\n",
    "house_meanDF = house_meanDF.reset_index()"
   ]
  },
  {
   "cell_type": "code",
   "execution_count": 10,
   "metadata": {},
   "outputs": [
    {
     "data": {
      "text/plain": [
       "BOROUGH                  object\n",
       " AVERAGE SALE PRICE     float64\n",
       "dtype: object"
      ]
     },
     "execution_count": 10,
     "metadata": {},
     "output_type": "execute_result"
    }
   ],
   "source": [
    "#Borough numbers are as follow\n",
    "#1 Manhattan {40.7831, 73.9712}\n",
    "#2 Brooklyn.{40.6782, 73.9442}\n",
    "#3 Queens. {40.7282, 73.7949}\n",
    "#4 The Bronx. {40.8448, 73.8648}\n",
    "#5 Staten Island. {40.5795, 74.1502}\n",
    "house_meanDF.BOROUGH = house_meanDF.BOROUGH.astype(object)\n",
    "house_meanDF.dtypes"
   ]
  },
  {
   "cell_type": "code",
   "execution_count": 11,
   "metadata": {},
   "outputs": [
    {
     "data": {
      "text/plain": [
       "BOROUGH      object\n",
       "BOR_LAT     float64\n",
       "BOR_LONG    float64\n",
       "dtype: object"
      ]
     },
     "execution_count": 11,
     "metadata": {},
     "output_type": "execute_result"
    }
   ],
   "source": [
    "lat_str = np.array([40.7831,40.6782,40.7282,40.8448,40.5795])\n",
    "lon_str = np.array([73.9712,73.9442,73.7949,73.8648,74.1502])\n",
    "bor_str = np.array([1,2,3,4,5])\n",
    "d = {'BOROUGH': bor_str, 'BOR_LAT': lon_str,'BOR_LONG': lon_str}\n",
    "bor_df = pd.DataFrame(data=d)\n",
    "\n",
    "bor_df.BOROUGH = bor_df.BOROUGH.astype(object)\n",
    "bor_df.dtypes"
   ]
  },
  {
   "cell_type": "code",
   "execution_count": 12,
   "metadata": {},
   "outputs": [
    {
     "data": {
      "text/html": [
       "<div>\n",
       "<style scoped>\n",
       "    .dataframe tbody tr th:only-of-type {\n",
       "        vertical-align: middle;\n",
       "    }\n",
       "\n",
       "    .dataframe tbody tr th {\n",
       "        vertical-align: top;\n",
       "    }\n",
       "\n",
       "    .dataframe thead th {\n",
       "        text-align: right;\n",
       "    }\n",
       "</style>\n",
       "<table border=\"1\" class=\"dataframe\">\n",
       "  <thead>\n",
       "    <tr style=\"text-align: right;\">\n",
       "      <th></th>\n",
       "      <th>BOROUGHBOROUGH</th>\n",
       "      <th>AVERAGE SALE PRICE</th>\n",
       "      <th>BOROUGHBOROUGH</th>\n",
       "      <th>BOR_LAT</th>\n",
       "      <th>BOR_LONG</th>\n",
       "    </tr>\n",
       "  </thead>\n",
       "  <tbody>\n",
       "    <tr>\n",
       "      <th>0</th>\n",
       "      <td>1</td>\n",
       "      <td>4.468911e+06</td>\n",
       "      <td>1</td>\n",
       "      <td>73.9712</td>\n",
       "      <td>73.9712</td>\n",
       "    </tr>\n",
       "    <tr>\n",
       "      <th>1</th>\n",
       "      <td>2</td>\n",
       "      <td>4.347190e+05</td>\n",
       "      <td>2</td>\n",
       "      <td>73.9442</td>\n",
       "      <td>73.9442</td>\n",
       "    </tr>\n",
       "    <tr>\n",
       "      <th>2</th>\n",
       "      <td>3</td>\n",
       "      <td>5.966653e+05</td>\n",
       "      <td>3</td>\n",
       "      <td>73.7949</td>\n",
       "      <td>73.7949</td>\n",
       "    </tr>\n",
       "    <tr>\n",
       "      <th>3</th>\n",
       "      <td>4</td>\n",
       "      <td>5.311523e+05</td>\n",
       "      <td>4</td>\n",
       "      <td>73.8648</td>\n",
       "      <td>73.8648</td>\n",
       "    </tr>\n",
       "    <tr>\n",
       "      <th>4</th>\n",
       "      <td>5</td>\n",
       "      <td>4.018787e+05</td>\n",
       "      <td>5</td>\n",
       "      <td>74.1502</td>\n",
       "      <td>74.1502</td>\n",
       "    </tr>\n",
       "    <tr>\n",
       "      <th>5</th>\n",
       "      <td>Citywide</td>\n",
       "      <td>5.592527e+05</td>\n",
       "      <td>NaN</td>\n",
       "      <td>NaN</td>\n",
       "      <td>NaN</td>\n",
       "    </tr>\n",
       "  </tbody>\n",
       "</table>\n",
       "</div>"
      ],
      "text/plain": [
       "  BOROUGHBOROUGH   AVERAGE SALE PRICE  BOROUGHBOROUGH  BOR_LAT  BOR_LONG\n",
       "0              1          4.468911e+06              1  73.9712   73.9712\n",
       "1              2          4.347190e+05              2  73.9442   73.9442\n",
       "2              3          5.966653e+05              3  73.7949   73.7949\n",
       "3              4          5.311523e+05              4  73.8648   73.8648\n",
       "4              5          4.018787e+05              5  74.1502   74.1502\n",
       "5       Citywide          5.592527e+05            NaN      NaN       NaN"
      ]
     },
     "execution_count": 12,
     "metadata": {},
     "output_type": "execute_result"
    }
   ],
   "source": [
    "result = house_meanDF.join(bor_df, lsuffix='BOROUGH', rsuffix='BOROUGH')\n",
    "result"
   ]
  },
  {
   "cell_type": "code",
   "execution_count": 13,
   "metadata": {},
   "outputs": [],
   "source": [
    "result = result.rename(columns={\"BOROUGHBOROUGH\": \"BOROUGH\"})\n"
   ]
  },
  {
   "cell_type": "code",
   "execution_count": 14,
   "metadata": {},
   "outputs": [
    {
     "data": {
      "text/html": [
       "<div>\n",
       "<style scoped>\n",
       "    .dataframe tbody tr th:only-of-type {\n",
       "        vertical-align: middle;\n",
       "    }\n",
       "\n",
       "    .dataframe tbody tr th {\n",
       "        vertical-align: top;\n",
       "    }\n",
       "\n",
       "    .dataframe thead th {\n",
       "        text-align: right;\n",
       "    }\n",
       "</style>\n",
       "<table border=\"1\" class=\"dataframe\">\n",
       "  <thead>\n",
       "    <tr style=\"text-align: right;\">\n",
       "      <th></th>\n",
       "      <th>BOROUGH</th>\n",
       "      <th>AVERAGE SALE PRICE</th>\n",
       "      <th>BOROUGH</th>\n",
       "      <th>BOR_LAT</th>\n",
       "      <th>BOR_LONG</th>\n",
       "    </tr>\n",
       "  </thead>\n",
       "  <tbody>\n",
       "    <tr>\n",
       "      <th>0</th>\n",
       "      <td>1</td>\n",
       "      <td>4.468911e+06</td>\n",
       "      <td>1</td>\n",
       "      <td>73.9712</td>\n",
       "      <td>73.9712</td>\n",
       "    </tr>\n",
       "    <tr>\n",
       "      <th>1</th>\n",
       "      <td>2</td>\n",
       "      <td>4.347190e+05</td>\n",
       "      <td>2</td>\n",
       "      <td>73.9442</td>\n",
       "      <td>73.9442</td>\n",
       "    </tr>\n",
       "    <tr>\n",
       "      <th>2</th>\n",
       "      <td>3</td>\n",
       "      <td>5.966653e+05</td>\n",
       "      <td>3</td>\n",
       "      <td>73.7949</td>\n",
       "      <td>73.7949</td>\n",
       "    </tr>\n",
       "    <tr>\n",
       "      <th>3</th>\n",
       "      <td>4</td>\n",
       "      <td>5.311523e+05</td>\n",
       "      <td>4</td>\n",
       "      <td>73.8648</td>\n",
       "      <td>73.8648</td>\n",
       "    </tr>\n",
       "    <tr>\n",
       "      <th>4</th>\n",
       "      <td>5</td>\n",
       "      <td>4.018787e+05</td>\n",
       "      <td>5</td>\n",
       "      <td>74.1502</td>\n",
       "      <td>74.1502</td>\n",
       "    </tr>\n",
       "  </tbody>\n",
       "</table>\n",
       "</div>"
      ],
      "text/plain": [
       "  BOROUGH   AVERAGE SALE PRICE  BOROUGH  BOR_LAT  BOR_LONG\n",
       "0       1          4.468911e+06       1  73.9712   73.9712\n",
       "1       2          4.347190e+05       2  73.9442   73.9442\n",
       "2       3          5.966653e+05       3  73.7949   73.7949\n",
       "3       4          5.311523e+05       4  73.8648   73.8648\n",
       "4       5          4.018787e+05       5  74.1502   74.1502"
      ]
     },
     "execution_count": 14,
     "metadata": {},
     "output_type": "execute_result"
    }
   ],
   "source": [
    "result.drop(5)\n",
    "result.head()"
   ]
  },
  {
   "cell_type": "markdown",
   "metadata": {},
   "source": [
    "### Find what borough's the crime data occured in"
   ]
  },
  {
   "cell_type": "markdown",
   "metadata": {},
   "source": [
    "This step will require a KNN classifier to label the crime data into boroughs.  Once labeled, the data will be counted to show total number of crimes per borough.  Next a model will be implemented scoring cost of living as an inverse slope, indicating a lower value would be a higher family happiness score, and the same for crime.  \n",
    "\n",
    "The ideal location would have a mix of manageable affordability, as well as low crime.  This would likely be the intersection point of the slopes."
   ]
  },
  {
   "cell_type": "code",
   "execution_count": 29,
   "metadata": {},
   "outputs": [],
   "source": [
    "import itertools\n",
    "import numpy as np\n",
    "import matplotlib.pyplot as plt\n",
    "from matplotlib.ticker import NullFormatter\n",
    "import pandas as pd\n",
    "import numpy as np\n",
    "import matplotlib.ticker as ticker\n",
    "from sklearn import preprocessing\n",
    "import math\n",
    "%matplotlib inline"
   ]
  },
  {
   "cell_type": "code",
   "execution_count": 30,
   "metadata": {},
   "outputs": [],
   "source": [
    "from sklearn.neighbors import KNeighborsClassifier"
   ]
  },
  {
   "cell_type": "code",
   "execution_count": 31,
   "metadata": {},
   "outputs": [
    {
     "data": {
      "text/html": [
       "<div>\n",
       "<style scoped>\n",
       "    .dataframe tbody tr th:only-of-type {\n",
       "        vertical-align: middle;\n",
       "    }\n",
       "\n",
       "    .dataframe tbody tr th {\n",
       "        vertical-align: top;\n",
       "    }\n",
       "\n",
       "    .dataframe thead th {\n",
       "        text-align: right;\n",
       "    }\n",
       "</style>\n",
       "<table border=\"1\" class=\"dataframe\">\n",
       "  <thead>\n",
       "    <tr style=\"text-align: right;\">\n",
       "      <th></th>\n",
       "      <th>Latitude</th>\n",
       "      <th>Longitude</th>\n",
       "    </tr>\n",
       "  </thead>\n",
       "  <tbody>\n",
       "    <tr>\n",
       "      <th>0</th>\n",
       "      <td>40.839908</td>\n",
       "      <td>-73.936084</td>\n",
       "    </tr>\n",
       "    <tr>\n",
       "      <th>1</th>\n",
       "      <td>40.778017</td>\n",
       "      <td>-73.980211</td>\n",
       "    </tr>\n",
       "    <tr>\n",
       "      <th>2</th>\n",
       "      <td>40.856492</td>\n",
       "      <td>-73.937261</td>\n",
       "    </tr>\n",
       "    <tr>\n",
       "      <th>3</th>\n",
       "      <td>40.820370</td>\n",
       "      <td>-73.938133</td>\n",
       "    </tr>\n",
       "    <tr>\n",
       "      <th>4</th>\n",
       "      <td>40.796058</td>\n",
       "      <td>-73.967052</td>\n",
       "    </tr>\n",
       "  </tbody>\n",
       "</table>\n",
       "</div>"
      ],
      "text/plain": [
       "    Latitude  Longitude\n",
       "0  40.839908 -73.936084\n",
       "1  40.778017 -73.980211\n",
       "2  40.856492 -73.937261\n",
       "3  40.820370 -73.938133\n",
       "4  40.796058 -73.967052"
      ]
     },
     "execution_count": 31,
     "metadata": {},
     "output_type": "execute_result"
    }
   ],
   "source": [
    "crime_latlong = pd.DataFrame(crm_df[['Latitude','Longitude']])\n",
    "crime_latlong = crime_latlong.reset_index()\n",
    "crime_latlong = crime_latlong.drop(columns='CMPLNT_NUM')\n",
    "crime_latlong.head()"
   ]
  },
  {
   "cell_type": "markdown",
   "metadata": {},
   "source": [
    "### Find nearest borough for crime"
   ]
  },
  {
   "cell_type": "code",
   "execution_count": 105,
   "metadata": {},
   "outputs": [
    {
     "name": "stdout",
     "output_type": "stream",
     "text": [
      "[2, 2, 2, 2, 2, 2, 2, 2, 2, 2, 2, 2, 2, 2, 2, 2, 2, 2, 2, 2, 2, 2, 2, 2, 2, 2, 2, 2, 2, 2, 2, 2, 2, 2, 2, 2, 2, 2, 2, 2, 2, 2, 2, 2, 2, 2, 2, 2, 2, 2, 2, 2, 2, 2, 2, 2, 2, 2, 2, 2, 2, 2, 2, 2, 2, 2, 2, 2, 2, 2, 2, 2, 2, 2, 2, 2, 2, 2, 2, 2, 2, 2, 2, 2, 2, 2, 2, 2, 2, 2, 2, 2, 2, 2, 2, 2, 2, 2, 2, 2, 2, 2, 2, 2, 2, 2, 2, 2, 2, 2, 2, 2, 2, 2, 2, 2, 2, 2, 2, 2, 2, 2, 2, 2, 2, 2, 2, 2, 2, 2, 2, 2, 2, 2, 2, 2, 2, 2, 2, 2, 2, 2, 2, 2, 2, 2]\n"
     ]
    }
   ],
   "source": [
    "x2 = bor_df.BOR_LAT\n",
    "y2 = bor_df.BOR_LONG\n",
    "borough = []\n",
    "x1 = crime_latlong.Latitude[1]\n",
    "for i in range(0,len(crime_latlong.Latitude)):\n",
    "    x1 = np.repeat(crime_latlong.Latitude[i],len(x2))\n",
    "    y1 = np.repeat(crime_latlong.Latitude[i],len(y2))\n",
    "    skwar = (x2-x1)**2+(y2-y1)**2\n",
    "    bor_dist = skwar.apply(math.sqrt)\n",
    "    dist_min = bor_dist[bor_dist==min(bor_dist)]\n",
    "    bor_choice = dist_min.index[0]\n",
    "    borough.append(bor_choice)\n",
    "print(borough)"
   ]
  },
  {
   "cell_type": "markdown",
   "metadata": {},
   "source": [
    "Hilariously this shows every single crime from the list to be closest in proximity to Brooklyn, and I believe the outcome is actually accurate as I have printed out the distance between lat/long coordinates and every single option is in fact found at the minimum with index #2, which is Brooklyn.  This could indicate that many crimes on the border of different boroughs may occur, but that all crimes are closest to the Brooklyn center."
   ]
  },
  {
   "cell_type": "markdown",
   "metadata": {},
   "source": [
    "Therefore, a simple solution would be to eliminate Brooklyn from the list of valid options to raise a family, solely based on crime rates."
   ]
  },
  {
   "cell_type": "code",
   "execution_count": 109,
   "metadata": {},
   "outputs": [
    {
     "data": {
      "text/plain": [
       "[<matplotlib.lines.Line2D at 0x7fdd8717e160>]"
      ]
     },
     "execution_count": 109,
     "metadata": {},
     "output_type": "execute_result"
    },
    {
     "data": {
      "image/png": "[encoded data removed]",
      "text/plain": [
       "<Figure size 432x288 with 1 Axes>"
      ]
     },
     "metadata": {
      "needs_background": "light"
     },
     "output_type": "display_data"
    }
   ],
   "source": [
    "plt.plot(result[' AVERAGE SALE PRICE '])"
   ]
  },
  {
   "cell_type": "code",
   "execution_count": 110,
   "metadata": {},
   "outputs": [
    {
     "data": {
      "text/html": [
       "<div>\n",
       "<style scoped>\n",
       "    .dataframe tbody tr th:only-of-type {\n",
       "        vertical-align: middle;\n",
       "    }\n",
       "\n",
       "    .dataframe tbody tr th {\n",
       "        vertical-align: top;\n",
       "    }\n",
       "\n",
       "    .dataframe thead th {\n",
       "        text-align: right;\n",
       "    }\n",
       "</style>\n",
       "<table border=\"1\" class=\"dataframe\">\n",
       "  <thead>\n",
       "    <tr style=\"text-align: right;\">\n",
       "      <th></th>\n",
       "      <th>BOROUGH</th>\n",
       "      <th>AVERAGE SALE PRICE</th>\n",
       "      <th>BOROUGH</th>\n",
       "      <th>BOR_LAT</th>\n",
       "      <th>BOR_LONG</th>\n",
       "    </tr>\n",
       "  </thead>\n",
       "  <tbody>\n",
       "    <tr>\n",
       "      <th>0</th>\n",
       "      <td>1</td>\n",
       "      <td>4.468911e+06</td>\n",
       "      <td>1</td>\n",
       "      <td>73.9712</td>\n",
       "      <td>73.9712</td>\n",
       "    </tr>\n",
       "    <tr>\n",
       "      <th>1</th>\n",
       "      <td>2</td>\n",
       "      <td>4.347190e+05</td>\n",
       "      <td>2</td>\n",
       "      <td>73.9442</td>\n",
       "      <td>73.9442</td>\n",
       "    </tr>\n",
       "    <tr>\n",
       "      <th>2</th>\n",
       "      <td>3</td>\n",
       "      <td>5.966653e+05</td>\n",
       "      <td>3</td>\n",
       "      <td>73.7949</td>\n",
       "      <td>73.7949</td>\n",
       "    </tr>\n",
       "    <tr>\n",
       "      <th>3</th>\n",
       "      <td>4</td>\n",
       "      <td>5.311523e+05</td>\n",
       "      <td>4</td>\n",
       "      <td>73.8648</td>\n",
       "      <td>73.8648</td>\n",
       "    </tr>\n",
       "    <tr>\n",
       "      <th>4</th>\n",
       "      <td>5</td>\n",
       "      <td>4.018787e+05</td>\n",
       "      <td>5</td>\n",
       "      <td>74.1502</td>\n",
       "      <td>74.1502</td>\n",
       "    </tr>\n",
       "    <tr>\n",
       "      <th>5</th>\n",
       "      <td>Citywide</td>\n",
       "      <td>5.592527e+05</td>\n",
       "      <td>NaN</td>\n",
       "      <td>NaN</td>\n",
       "      <td>NaN</td>\n",
       "    </tr>\n",
       "  </tbody>\n",
       "</table>\n",
       "</div>"
      ],
      "text/plain": [
       "    BOROUGH   AVERAGE SALE PRICE  BOROUGH  BOR_LAT  BOR_LONG\n",
       "0         1          4.468911e+06       1  73.9712   73.9712\n",
       "1         2          4.347190e+05       2  73.9442   73.9442\n",
       "2         3          5.966653e+05       3  73.7949   73.7949\n",
       "3         4          5.311523e+05       4  73.8648   73.8648\n",
       "4         5          4.018787e+05       5  74.1502   74.1502\n",
       "5  Citywide          5.592527e+05     NaN      NaN       NaN"
      ]
     },
     "execution_count": 110,
     "metadata": {},
     "output_type": "execute_result"
    }
   ],
   "source": [
    "result"
   ]
  },
  {
   "cell_type": "markdown",
   "metadata": {},
   "source": [
    "The above plot shows Manhattan's average home cost to be the highest of all 5 boroughs.  However, it show's both borough #1 and #4 to have the lowest average home cost.  These borough's are Brooklyn and Staten Island.  \n",
    "\n",
    "Since Brooklyn was taken off the list due to high crime, we must settle on Staten Island being the best choice to raise a family and work in NY based off the para"
   ]
  }
 ],
 "metadata": {
  "kernelspec": {
   "display_name": "Python 3",
   "language": "python",
   "name": "python3"
  },
  "language_info": {
   "codemirror_mode": {
    "name": "ipython",
    "version": 3
   },
   "file_extension": ".py",
   "mimetype": "text/x-python",
   "name": "python",
   "nbconvert_exporter": "python",
   "pygments_lexer": "ipython3",
   "version": "3.6.6"
  }
 },
 "nbformat": 4,
 "nbformat_minor": 2
}
